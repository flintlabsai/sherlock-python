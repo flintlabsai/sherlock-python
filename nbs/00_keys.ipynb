{
 "cells": [
  {
   "cell_type": "markdown",
   "metadata": {},
   "source": [
    "# keys\n",
    "\n",
    "> Cryptographic and key management helpers for interacting with the Sherlock Domains API"
   ]
  },
  {
   "cell_type": "code",
   "execution_count": null,
   "metadata": {},
   "outputs": [],
   "source": [
    "#| default_exp keys"
   ]
  },
  {
   "cell_type": "code",
   "execution_count": null,
   "metadata": {},
   "outputs": [],
   "source": [
    "#| hide\n",
    "from nbdev.showdoc import *\n",
    "from fastcore.test import *"
   ]
  },
  {
   "cell_type": "markdown",
   "metadata": {},
   "source": [
    "Clients authenticate using public key cryptography. Currently, identities are based on the ed25519 key pairs."
   ]
  },
  {
   "cell_type": "code",
   "execution_count": null,
   "metadata": {},
   "outputs": [],
   "source": [
    "#| export\n",
    "from cryptography.hazmat.primitives.asymmetric import ed25519\n",
    "from cryptography.hazmat.primitives import serialization\n"
   ]
  },
  {
   "cell_type": "code",
   "execution_count": null,
   "metadata": {},
   "outputs": [
    {
     "data": {
      "text/plain": [
       "{'private_key_hex': '3499a4516d7a41ee4ed9fc56e3afa9810928777ee25e35c694bd3575ed0f0d87',\n",
       " 'public_key_hex': '1cead4f0b4289cf1b20fedb08b8fbfb7bf0e2f89875b59f1ce0761b182f8bfbb'}"
      ]
     },
     "execution_count": null,
     "metadata": {},
     "output_type": "execute_result"
    }
   ],
   "source": [
    "priv_key = ed25519.Ed25519PrivateKey.generate()\n",
    "\n",
    "priv_key_hex = priv_key.private_bytes(encoding=serialization.Encoding.Raw, format=serialization.PrivateFormat.Raw, encryption_algorithm=serialization.NoEncryption()).hex()\n",
    "pub_key_hex = priv_key.public_key().public_bytes(encoding=serialization.Encoding.Raw, format=serialization.PublicFormat.Raw).hex()\n",
    "\n",
    "{\n",
    "    \"private_key_hex\": priv_key_hex,\n",
    "    \"public_key_hex\": pub_key_hex\n",
    "}\n"
   ]
  },
  {
   "cell_type": "code",
   "execution_count": null,
   "metadata": {},
   "outputs": [],
   "source": [
    "#| export\n",
    "class Key:\n",
    "    def __init__(self, \n",
    "                 priv_key: ed25519.Ed25519PrivateKey):\n",
    "        self.priv_key = priv_key\n",
    "        self.pub_key = priv_key.public_key()\n",
    "\n",
    "    def public_key(self) -> str:\n",
    "        return self.pub_key.public_bytes(encoding=serialization.Encoding.Raw, format=serialization.PublicFormat.Raw).hex()\n",
    "    \n",
    "    def export(self) -> dict:\n",
    "        return {\n",
    "            \"private_key_hex\": self.priv_key.private_bytes(encoding=serialization.Encoding.Raw, format=serialization.PrivateFormat.Raw, encryption_algorithm=serialization.NoEncryption()).hex(),\n",
    "            \"public_key_hex\": self.pub_key.public_bytes(encoding=serialization.Encoding.Raw, format=serialization.PublicFormat.Raw).hex()\n",
    "        }\n",
    "    \n",
    "    def sign(self, message: bytes) -> bytes:\n",
    "        return self.priv_key.sign(message)\n",
    "    \n",
    "    def __str__(self):\n",
    "        return f\"Key(pub_key_hex={self.pub_key.public_bytes(encoding=serialization.Encoding.Raw, format=serialization.PublicFormat.Raw).hex()})\"\n",
    "\n",
    "    def __repr__(self):\n",
    "        return self.__str__()"
   ]
  },
  {
   "cell_type": "code",
   "execution_count": null,
   "metadata": {},
   "outputs": [],
   "source": [
    "#| export\n",
    "def generate_key() -> Key:\n",
    "    \"\"\"Generate a new key pair for a client\"\"\"\n",
    "    return Key(ed25519.Ed25519PrivateKey.generate())\n"
   ]
  },
  {
   "cell_type": "code",
   "execution_count": null,
   "metadata": {},
   "outputs": [
    {
     "data": {
      "text/plain": [
       "Key(pub_key_hex=2aaf406e5dee9f6e732a5a466f96de48fd6747dba429a057608c7bf70e52a3d9)"
      ]
     },
     "execution_count": null,
     "metadata": {},
     "output_type": "execute_result"
    }
   ],
   "source": [
    "key = generate_key()\n",
    "key"
   ]
  },
  {
   "cell_type": "code",
   "execution_count": null,
   "metadata": {},
   "outputs": [],
   "source": [
    "#| export\n",
    "def load_key(priv_key_hex: str) -> Key:\n",
    "    \"\"\"Load a key pair from an ed25519 hex encoded private key\"\"\"\n",
    "    return Key(ed25519.Ed25519PrivateKey.from_private_bytes(bytes.fromhex(priv_key_hex)))"
   ]
  },
  {
   "cell_type": "code",
   "execution_count": null,
   "metadata": {},
   "outputs": [],
   "source": [
    "key = load_key(\"3557ed77dd346fcbeefff47115622aa449c0054384347aaa2a6d1284d54caf6d\")\n",
    "test_eq(key.export()['private_key_hex'], \"3557ed77dd346fcbeefff47115622aa449c0054384347aaa2a6d1284d54caf6d\")\n",
    "test_eq(key.export()['public_key_hex'], \"c695748b10043c10ce2af90a227ebe495a8e5a6096f5f9832088b963309517be\")\n",
    "test_eq(key.public_key(), \"c695748b10043c10ce2af90a227ebe495a8e5a6096f5f9832088b963309517be\")"
   ]
  },
  {
   "cell_type": "code",
   "execution_count": null,
   "metadata": {},
   "outputs": [],
   "source": [
    "message = \"hello\"\n",
    "\n",
    "msg_bytes = message.encode()\n",
    "signed_msg = key.sign(msg_bytes)\n",
    "encoded_signature = signed_msg.hex()\n",
    "\n",
    "test_eq(encoded_signature,\"7f7ec3dc5b61352adbdced1766d944aa3bd243b6b231ad08a5607373fb3bea0cca965d2924e6cfeb7440d2d8b52ba5f24b61954e457337253aca989563404c01\")"
   ]
  }
 ],
 "metadata": {
  "kernelspec": {
   "display_name": "python3",
   "language": "python",
   "name": "python3"
  }
 },
 "nbformat": 4,
 "nbformat_minor": 4
}
