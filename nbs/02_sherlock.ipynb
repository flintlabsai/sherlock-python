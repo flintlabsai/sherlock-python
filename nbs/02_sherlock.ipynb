{
 "cells": [
  {
   "cell_type": "markdown",
   "metadata": {},
   "source": [
    "# Sherlock \n",
    "\n",
    "> Python SDK for interacting with the Sherlock Domains API."
   ]
  },
  {
   "cell_type": "code",
   "execution_count": null,
   "metadata": {},
   "outputs": [],
   "source": [
    "#| default_exp sherlock"
   ]
  },
  {
   "cell_type": "code",
   "execution_count": null,
   "metadata": {},
   "outputs": [],
   "source": [
    "#| hide\n",
    "from nbdev.showdoc import *"
   ]
  },
  {
   "cell_type": "code",
   "execution_count": null,
   "metadata": {},
   "outputs": [],
   "source": [
    "#| export\n",
    "from typing import Optional, List\n",
    "\n",
    "from fastcore.test import *\n",
    "from sherlock_domains.keys import load_key\n",
    "from sherlock_domains import api"
   ]
  },
  {
   "cell_type": "code",
   "execution_count": null,
   "metadata": {},
   "outputs": [
    {
     "ename": "AttributeError",
     "evalue": "module 'sherlock_domains.api' has no attribute 'ContactInfo'",
     "output_type": "error",
     "traceback": [
      "\u001b[0;31m---------------------------------------------------------------------------\u001b[0m",
      "\u001b[0;31mAttributeError\u001b[0m                            Traceback (most recent call last)",
      "Cell \u001b[0;32mIn[5], line 2\u001b[0m\n\u001b[1;32m      1\u001b[0m \u001b[38;5;66;03m#| export\u001b[39;00m\n\u001b[0;32m----> 2\u001b[0m \u001b[38;5;28;43;01mclass\u001b[39;49;00m\u001b[43m \u001b[49m\u001b[38;5;21;43;01mSherlock\u001b[39;49;00m\u001b[43m:\u001b[49m\n\u001b[1;32m      3\u001b[0m \u001b[38;5;250;43m    \u001b[39;49m\u001b[38;5;124;43;03m\"\"\"Sherlock is an SDK for interacting with the Sherlock Domains API.\"\"\"\u001b[39;49;00m\n\u001b[1;32m      5\u001b[0m \u001b[43m    \u001b[49m\u001b[43mAPI_URL\u001b[49m\u001b[43m \u001b[49m\u001b[38;5;241;43m=\u001b[39;49m\u001b[43m \u001b[49m\u001b[38;5;124;43m\"\u001b[39;49m\u001b[38;5;124;43mhttps://api.sherlockdomains.com\u001b[39;49m\u001b[38;5;124;43m\"\u001b[39;49m\n",
      "Cell \u001b[0;32mIn[5], line 37\u001b[0m, in \u001b[0;36mSherlock\u001b[0;34m()\u001b[0m\n\u001b[1;32m     34\u001b[0m \u001b[38;5;28;01mdef\u001b[39;00m \u001b[38;5;21msearch_domains\u001b[39m(\u001b[38;5;28mself\u001b[39m, query: \u001b[38;5;28mstr\u001b[39m) \u001b[38;5;241m-\u001b[39m\u001b[38;5;241m>\u001b[39m api\u001b[38;5;241m.\u001b[39mDomainSearchResponse:\n\u001b[1;32m     35\u001b[0m     \u001b[38;5;28;01mreturn\u001b[39;00m api\u001b[38;5;241m.\u001b[39msearch_domains(\u001b[38;5;28mself\u001b[39m\u001b[38;5;241m.\u001b[39m_auth_token(), query)\n\u001b[0;32m---> 37\u001b[0m \u001b[38;5;28;01mdef\u001b[39;00m \u001b[38;5;21mpurchase_domain\u001b[39m(\u001b[38;5;28mself\u001b[39m, search_id: \u001b[38;5;28mstr\u001b[39m, domain: \u001b[38;5;28mstr\u001b[39m, contact_info: \u001b[43mapi\u001b[49m\u001b[38;5;241;43m.\u001b[39;49m\u001b[43mContactInfo\u001b[49m, payment_method: \u001b[38;5;28mstr\u001b[39m \u001b[38;5;241m=\u001b[39m \u001b[38;5;124m\"\u001b[39m\u001b[38;5;124mcredit_card\u001b[39m\u001b[38;5;124m\"\u001b[39m) \u001b[38;5;241m-\u001b[39m\u001b[38;5;241m>\u001b[39m \u001b[38;5;28mstr\u001b[39m:\n\u001b[1;32m     38\u001b[0m     domain_offer \u001b[38;5;241m=\u001b[39m api\u001b[38;5;241m.\u001b[39mrequest_offer(search_id, domain, contact_info, \u001b[38;5;28mself\u001b[39m\u001b[38;5;241m.\u001b[39m_auth_token())\n\u001b[1;32m     40\u001b[0m     \u001b[38;5;28;01mif\u001b[39;00m domain_offer \u001b[38;5;129;01mis\u001b[39;00m \u001b[38;5;28;01mNone\u001b[39;00m:\n",
      "\u001b[0;31mAttributeError\u001b[0m: module 'sherlock_domains.api' has no attribute 'ContactInfo'"
     ]
    }
   ],
   "source": [
    "#| export\n",
    "class Sherlock:\n",
    "    \"\"\"Sherlock is an SDK for interacting with the Sherlock Domains API.\"\"\"\n",
    "\n",
    "    API_URL = \"https://api.sherlockdomains.com\"\n",
    "\n",
    "    def __init__(self, private_key_hex: Optional[str] = None):\n",
    "        if private_key_hex is not None:\n",
    "            self.key = load_key(private_key_hex)\n",
    "            self._authenticate()\n",
    "    \n",
    "    def _authenticate(self):\n",
    "        \"\"\"Authenticate with the Sherlock API\"\"\"\n",
    "        if self.key is None:\n",
    "            raise ValueError(\"Unable to authenticate: no private key provided\")\n",
    "        \n",
    "        pub_key_hex = self.key.public_key().hex()\n",
    "        challenge = api.get_new_challenge(pub_key_hex)\n",
    "        signature = self.key.sign(bytes.fromhex(challenge))\n",
    "        tokens = api.get_tokens(pub_key_hex, challenge, signature.hex())\n",
    "        \n",
    "        self.access_token = tokens[\"access_token\"]\n",
    "        self.refresh_token = tokens[\"refresh_token\"]\n",
    "        self._is_authenticated = True\n",
    "\n",
    "    def _auth_token(self) -> str:\n",
    "        \"\"\"Get the access token\"\"\"\n",
    "        if not self._is_authenticated:\n",
    "            raise ValueError(\"Unable to get access token: not authenticated\")\n",
    "        \n",
    "        # TODO: handle token expiration\n",
    "        return self.access_token\n",
    "\n",
    "    def search_domains(self, query: str) -> api.DomainSearchResponse:\n",
    "        return api.search_domains(self._auth_token(), query)\n",
    "    \n",
    "    def purchase_domain(self, search_id: str, domain: str, contact_info: api.ContactInformation, payment_method: str = \"credit_card\") -> str:\n",
    "        domain_offer = api.request_offer(search_id, domain, contact_info, self._auth_token())\n",
    "\n",
    "        if domain_offer is None:\n",
    "            raise ValueError(f\"No offer found for domain: {domain}\")\n",
    "        \n",
    "        payment_request_url = domain_offer[\"payment_request_url\"]\n",
    "        payment_context_token = domain_offer[\"payment_context_token\"]\n",
    "        offer_id = domain_offer[\"offers\"][0][\"id\"]\n",
    "\n",
    "\n",
    "        payment_request = api.get_payment_request(payment_request_url, payment_context_token, offer_id, payment_method)\n",
    "        if payment_method == \"credit_card\":\n",
    "            return payment_request[\"payment_method\"][\"checkout_url\"]\n",
    "        elif payment_method == \"lightning\":\n",
    "            return payment_request[\"payment_method\"][\"lightning_invoice\"]\n",
    "\n",
    "    def get_domains(self) -> List[api.DomainInfo]:\n",
    "        return api.get_domains(self._auth_token())\n",
    "    \n",
    "    def get_dns_records(self, domain: str) -> List[api.DNSRecord]:\n",
    "        return api.get_dns_records(self._auth_token(), domain)\n",
    "    \n",
    "    def create_dns_record(self, domain: str, record: api.CreateDNSRecord) -> api.DNSRecord:\n",
    "        return api.create_dns_record(self._auth_token(), domain, record)\n",
    "    \n",
    "    def update_dns_record(self, domain: str, record_id: str, record: api.UpdateDNSRecord) -> api.DNSRecord:\n",
    "        return api.update_dns_record(self._auth_token(), domain, record_id, record)\n",
    "    \n",
    "    def delete_dns_record(self, domain: str, record_id: str) -> None:\n",
    "        return api.delete_dns_record(self._auth_token(), domain, record_id)\n"
   ]
  }
 ],
 "metadata": {
  "kernelspec": {
   "display_name": "python3",
   "language": "python",
   "name": "python3"
  }
 },
 "nbformat": 4,
 "nbformat_minor": 2
}
